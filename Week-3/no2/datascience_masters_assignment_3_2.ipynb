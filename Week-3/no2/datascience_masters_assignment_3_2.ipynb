{
 "cells": [
  {
   "cell_type": "code",
   "execution_count": 79,
   "metadata": {},
   "outputs": [
    {
     "name": "stdout",
     "output_type": "stream",
     "text": [
      "['A', 'C', 'A', 'D', 'G', 'I', 'L', 'D']\n",
      "['x', 'xx', 'xxx', 'xxxx', 'y', 'yy', 'yyy', 'yyyy', 'z', 'zz', 'zzz', 'zzzz']\n",
      "['x', 'y', 'z', 'xx', 'yy', 'zz', 'xxx', 'yyy', 'zzz', 'xxxx', 'yyyy', 'zzzz']\n",
      "[[2], [3], [4], [3], [4], [5], [4], [5], [6]]\n",
      "[[2, 3, 4, 5], [3, 4, 5, 6], [4, 5, 6, 7], [5, 6, 7, 8]]\n",
      "[(1, 1), (2, 1), (3, 1), (1, 2), (2, 2), (3, 2), (1, 3), (2, 3), (3, 3)]\n"
     ]
    }
   ],
   "source": [
    "def showListComprehensions():\n",
    "    input_1 = 'ACADGILD'\n",
    "    pattern_1 = [x for x in input_1]\n",
    "    print(pattern_1)\n",
    "    \n",
    "    input_2 = ['x', 'y', 'z']\n",
    "    pattern_2 = [x * y for x in input_2 for y in range(1, 5)]\n",
    "    print(pattern_2)\n",
    "    \n",
    "    input_3 = ['x', 'y', 'z']\n",
    "    pattern_3_temp = [[x * y for x in input_3] for y in range(1,5)]\n",
    "    pattern_3 = [x for y in pattern_3_temp for x in y]\n",
    "    print(pattern_3)\n",
    "    \n",
    "    input_4 = [2,3,4,5,6]\n",
    "    count = 3\n",
    "    pattern_4_temp = [input_4[i:(i+1) + (count - 1)] for i in range(3)]\n",
    "    pattern_4 = [[z] for x in pattern_4_temp for z in x]\n",
    "    print(pattern_4)\n",
    "    \n",
    "    input_5 = [2,3,4,5,6,7,8]\n",
    "    count = 4\n",
    "    pattern_5 = [input_5[i:(i+1)+(count-1)] for i in range(4)]\n",
    "    print(pattern_5)\n",
    "    \n",
    "    input_6 = [1,2,3]\n",
    "    pattern_6_temp = [[(x, y) for x in range(1,4)] for y in range(1, 4)]\n",
    "    pattern_6 = [item for z in pattern_6_temp for item in z]\n",
    "    print(pattern_6)\n",
    "    \n",
    "showListComprehensions()"
   ]
  },
  {
   "cell_type": "code",
   "execution_count": null,
   "metadata": {
    "collapsed": true
   },
   "outputs": [],
   "source": []
  }
 ],
 "metadata": {
  "kernelspec": {
   "display_name": "Python 3",
   "language": "python",
   "name": "python3"
  },
  "language_info": {
   "codemirror_mode": {
    "name": "ipython",
    "version": 3
   },
   "file_extension": ".py",
   "mimetype": "text/x-python",
   "name": "python",
   "nbconvert_exporter": "python",
   "pygments_lexer": "ipython3",
   "version": "3.5.4"
  }
 },
 "nbformat": 4,
 "nbformat_minor": 2
}
