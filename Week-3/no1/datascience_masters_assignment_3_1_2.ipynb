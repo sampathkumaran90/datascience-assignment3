{
 "cells": [
  {
   "cell_type": "code",
   "execution_count": 6,
   "metadata": {},
   "outputs": [
    {
     "name": "stdout",
     "output_type": "stream",
     "text": [
      "The filtered list using built-in filter is: [2, 4, 6, 8, 10]\n",
      "The filtered list using built-in filter is: [2, 4, 6, 8, 10]\n"
     ]
    }
   ],
   "source": [
    "def withBuiltInFilter():\n",
    "    list_ex = [2,3,4,5,6,7,8,9,10]\n",
    "    even_list = filter(lambda x: x%2 == 0, list_ex)\n",
    "    print(\"The filtered list using built-in filter is: {}\".format(list(even_list)))\n",
    "    \n",
    "def myFilter():\n",
    "    list_ex = [2,3,4,5,6,7,8,9,10]\n",
    "    even_list = []\n",
    "    for x in list_ex:\n",
    "        if x % 2 == 0:\n",
    "            even_list.append(x)\n",
    "    print(\"The filtered list using built-in filter is: {}\".format(list(even_list)))\n",
    "    \n",
    "withBuiltInFilter()\n",
    "myFilter()"
   ]
  },
  {
   "cell_type": "code",
   "execution_count": null,
   "metadata": {
    "collapsed": true
   },
   "outputs": [],
   "source": [
    "()"
   ]
  }
 ],
 "metadata": {
  "kernelspec": {
   "display_name": "Python 3",
   "language": "python",
   "name": "python3"
  },
  "language_info": {
   "codemirror_mode": {
    "name": "ipython",
    "version": 3
   },
   "file_extension": ".py",
   "mimetype": "text/x-python",
   "name": "python",
   "nbconvert_exporter": "python",
   "pygments_lexer": "ipython3",
   "version": "3.5.4"
  }
 },
 "nbformat": 4,
 "nbformat_minor": 2
}
