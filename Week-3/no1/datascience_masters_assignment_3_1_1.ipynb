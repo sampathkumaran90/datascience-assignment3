{
 "cells": [
  {
   "cell_type": "code",
   "execution_count": 19,
   "metadata": {},
   "outputs": [
    {
     "name": "stdout",
     "output_type": "stream",
     "text": [
      "The sum of the list using builtin reduce is: 1500\n",
      "The sum of the list by emulating the reduce function is 1500\n"
     ]
    }
   ],
   "source": [
    "from functools import reduce\n",
    "\n",
    "def withBuiltInReduce():\n",
    "    '''Function to demonstrate built-in reduce function'''\n",
    "    list_ex = [100, 200, 300, 400, 500]\n",
    "    sum = reduce(lambda x,y: x + y, list_ex)\n",
    "    print(\"The sum of the list using builtin reduce is: {}\".format(sum))\n",
    "    \n",
    "def myReduce():\n",
    "    '''Function to demonstrate the inner workings of reduce function'''\n",
    "    list_ex = [100, 200, 300, 400, 500]\n",
    "    sum = list_ex[0]\n",
    "    for index, value in enumerate(list_ex):\n",
    "        if (index < len(list_ex) - 1):\n",
    "            sum += list_ex[index + 1]\n",
    "    print(\"The sum of the list by emulating the reduce function is {}\".format(sum))\n",
    "    \n",
    "\n",
    "withBuiltInReduce()\n",
    "myReduce()"
   ]
  },
  {
   "cell_type": "code",
   "execution_count": null,
   "metadata": {
    "collapsed": true
   },
   "outputs": [],
   "source": []
  }
 ],
 "metadata": {
  "kernelspec": {
   "display_name": "Python 3",
   "language": "python",
   "name": "python3"
  },
  "language_info": {
   "codemirror_mode": {
    "name": "ipython",
    "version": 3
   },
   "file_extension": ".py",
   "mimetype": "text/x-python",
   "name": "python",
   "nbconvert_exporter": "python",
   "pygments_lexer": "ipython3",
   "version": "3.5.4"
  }
 },
 "nbformat": 4,
 "nbformat_minor": 2
}
