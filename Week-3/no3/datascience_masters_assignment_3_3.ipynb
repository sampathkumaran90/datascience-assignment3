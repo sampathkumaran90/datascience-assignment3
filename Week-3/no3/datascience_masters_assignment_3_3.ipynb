{
 "cells": [
  {
   "cell_type": "code",
   "execution_count": 8,
   "metadata": {},
   "outputs": [
    {
     "name": "stdout",
     "output_type": "stream",
     "text": [
      "The longest word in the list is: Good Day and the length is: 8\n"
     ]
    }
   ],
   "source": [
    "def getLongestWord(wordList):\n",
    "    length = 0\n",
    "    longestWord = wordList[0]\n",
    "    for index, value in enumerate(wordList):\n",
    "        if length <= len(value):\n",
    "            length = len(value)\n",
    "            longestWord = wordList[index]\n",
    "    return longestWord, length\n",
    "\n",
    "inputList = ['Hello', 'Hi', 'Good Day']\n",
    "longestWord, length = getLongestWord(inputList)\n",
    "print(\"The longest word in the list is: {} and the length is: {}\".format(longestWord, length))"
   ]
  },
  {
   "cell_type": "code",
   "execution_count": null,
   "metadata": {
    "collapsed": true
   },
   "outputs": [],
   "source": []
  }
 ],
 "metadata": {
  "kernelspec": {
   "display_name": "Python 3",
   "language": "python",
   "name": "python3"
  },
  "language_info": {
   "codemirror_mode": {
    "name": "ipython",
    "version": 3
   },
   "file_extension": ".py",
   "mimetype": "text/x-python",
   "name": "python",
   "nbconvert_exporter": "python",
   "pygments_lexer": "ipython3",
   "version": "3.5.4"
  }
 },
 "nbformat": 4,
 "nbformat_minor": 2
}
